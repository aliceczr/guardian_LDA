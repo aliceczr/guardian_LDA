{
  "nbformat": 4,
  "nbformat_minor": 0,
  "metadata": {
    "colab": {
      "provenance": [],
      "authorship_tag": "ABX9TyPyJd+iDdXLHI5wtj/3QMvp",
      "include_colab_link": true
    },
    "kernelspec": {
      "name": "python3",
      "display_name": "Python 3"
    },
    "language_info": {
      "name": "python"
    }
  },
  "cells": [
    {
      "cell_type": "markdown",
      "metadata": {
        "id": "view-in-github",
        "colab_type": "text"
      },
      "source": [
        "<a href=\"https://colab.research.google.com/github/aliceczr/guardian_LDA/blob/main/Guardian_LDA.ipynb\" target=\"_parent\"><img src=\"https://colab.research.google.com/assets/colab-badge.svg\" alt=\"Open In Colab\"/></a>"
      ]
    },
    {
      "cell_type": "markdown",
      "source": [
        "## Installing dependecies"
      ],
      "metadata": {
        "id": "E3jffvt2VCkT"
      }
    },
    {
      "cell_type": "code",
      "source": [
        "!pip install gensim # Library for topic modelling\n",
        "!pip install nltk  # Library for NLP\n",
        "!pip install spacy # Library for NLP\n",
        "!pip install pyLDAvis # Library for implementing LDA\n"
      ],
      "metadata": {
        "collapsed": true,
        "id": "QTu-hbx8VCkT",
        "colab": {
          "base_uri": "https://localhost:8080/"
        },
        "outputId": "3fca23ef-edf7-4f98-ecf7-d8f753edb931"
      },
      "execution_count": 1,
      "outputs": [
        {
          "output_type": "stream",
          "name": "stdout",
          "text": [
            "Requirement already satisfied: gensim in /usr/local/lib/python3.10/dist-packages (4.3.3)\n",
            "Requirement already satisfied: numpy<2.0,>=1.18.5 in /usr/local/lib/python3.10/dist-packages (from gensim) (1.26.4)\n",
            "Requirement already satisfied: scipy<1.14.0,>=1.7.0 in /usr/local/lib/python3.10/dist-packages (from gensim) (1.13.1)\n",
            "Requirement already satisfied: smart-open>=1.8.1 in /usr/local/lib/python3.10/dist-packages (from gensim) (7.0.4)\n",
            "Requirement already satisfied: wrapt in /usr/local/lib/python3.10/dist-packages (from smart-open>=1.8.1->gensim) (1.16.0)\n",
            "Requirement already satisfied: nltk in /usr/local/lib/python3.10/dist-packages (3.8.1)\n",
            "Requirement already satisfied: click in /usr/local/lib/python3.10/dist-packages (from nltk) (8.1.7)\n",
            "Requirement already satisfied: joblib in /usr/local/lib/python3.10/dist-packages (from nltk) (1.4.2)\n",
            "Requirement already satisfied: regex>=2021.8.3 in /usr/local/lib/python3.10/dist-packages (from nltk) (2024.5.15)\n",
            "Requirement already satisfied: tqdm in /usr/local/lib/python3.10/dist-packages (from nltk) (4.66.5)\n",
            "Requirement already satisfied: spacy in /usr/local/lib/python3.10/dist-packages (3.7.6)\n",
            "Requirement already satisfied: spacy-legacy<3.1.0,>=3.0.11 in /usr/local/lib/python3.10/dist-packages (from spacy) (3.0.12)\n",
            "Requirement already satisfied: spacy-loggers<2.0.0,>=1.0.0 in /usr/local/lib/python3.10/dist-packages (from spacy) (1.0.5)\n",
            "Requirement already satisfied: murmurhash<1.1.0,>=0.28.0 in /usr/local/lib/python3.10/dist-packages (from spacy) (1.0.10)\n",
            "Requirement already satisfied: cymem<2.1.0,>=2.0.2 in /usr/local/lib/python3.10/dist-packages (from spacy) (2.0.8)\n",
            "Requirement already satisfied: preshed<3.1.0,>=3.0.2 in /usr/local/lib/python3.10/dist-packages (from spacy) (3.0.9)\n",
            "Requirement already satisfied: thinc<8.3.0,>=8.2.2 in /usr/local/lib/python3.10/dist-packages (from spacy) (8.2.5)\n",
            "Requirement already satisfied: wasabi<1.2.0,>=0.9.1 in /usr/local/lib/python3.10/dist-packages (from spacy) (1.1.3)\n",
            "Requirement already satisfied: srsly<3.0.0,>=2.4.3 in /usr/local/lib/python3.10/dist-packages (from spacy) (2.4.8)\n",
            "Requirement already satisfied: catalogue<2.1.0,>=2.0.6 in /usr/local/lib/python3.10/dist-packages (from spacy) (2.0.10)\n",
            "Requirement already satisfied: weasel<0.5.0,>=0.1.0 in /usr/local/lib/python3.10/dist-packages (from spacy) (0.4.1)\n",
            "Requirement already satisfied: typer<1.0.0,>=0.3.0 in /usr/local/lib/python3.10/dist-packages (from spacy) (0.12.5)\n",
            "Requirement already satisfied: tqdm<5.0.0,>=4.38.0 in /usr/local/lib/python3.10/dist-packages (from spacy) (4.66.5)\n",
            "Requirement already satisfied: requests<3.0.0,>=2.13.0 in /usr/local/lib/python3.10/dist-packages (from spacy) (2.32.3)\n",
            "Requirement already satisfied: pydantic!=1.8,!=1.8.1,<3.0.0,>=1.7.4 in /usr/local/lib/python3.10/dist-packages (from spacy) (2.8.2)\n",
            "Requirement already satisfied: jinja2 in /usr/local/lib/python3.10/dist-packages (from spacy) (3.1.4)\n",
            "Requirement already satisfied: setuptools in /usr/local/lib/python3.10/dist-packages (from spacy) (71.0.4)\n",
            "Requirement already satisfied: packaging>=20.0 in /usr/local/lib/python3.10/dist-packages (from spacy) (24.1)\n",
            "Requirement already satisfied: langcodes<4.0.0,>=3.2.0 in /usr/local/lib/python3.10/dist-packages (from spacy) (3.4.0)\n",
            "Requirement already satisfied: numpy>=1.19.0 in /usr/local/lib/python3.10/dist-packages (from spacy) (1.26.4)\n",
            "Requirement already satisfied: language-data>=1.2 in /usr/local/lib/python3.10/dist-packages (from langcodes<4.0.0,>=3.2.0->spacy) (1.2.0)\n",
            "Requirement already satisfied: annotated-types>=0.4.0 in /usr/local/lib/python3.10/dist-packages (from pydantic!=1.8,!=1.8.1,<3.0.0,>=1.7.4->spacy) (0.7.0)\n",
            "Requirement already satisfied: pydantic-core==2.20.1 in /usr/local/lib/python3.10/dist-packages (from pydantic!=1.8,!=1.8.1,<3.0.0,>=1.7.4->spacy) (2.20.1)\n",
            "Requirement already satisfied: typing-extensions>=4.6.1 in /usr/local/lib/python3.10/dist-packages (from pydantic!=1.8,!=1.8.1,<3.0.0,>=1.7.4->spacy) (4.12.2)\n",
            "Requirement already satisfied: charset-normalizer<4,>=2 in /usr/local/lib/python3.10/dist-packages (from requests<3.0.0,>=2.13.0->spacy) (3.3.2)\n",
            "Requirement already satisfied: idna<4,>=2.5 in /usr/local/lib/python3.10/dist-packages (from requests<3.0.0,>=2.13.0->spacy) (3.8)\n",
            "Requirement already satisfied: urllib3<3,>=1.21.1 in /usr/local/lib/python3.10/dist-packages (from requests<3.0.0,>=2.13.0->spacy) (2.0.7)\n",
            "Requirement already satisfied: certifi>=2017.4.17 in /usr/local/lib/python3.10/dist-packages (from requests<3.0.0,>=2.13.0->spacy) (2024.8.30)\n",
            "Requirement already satisfied: blis<0.8.0,>=0.7.8 in /usr/local/lib/python3.10/dist-packages (from thinc<8.3.0,>=8.2.2->spacy) (0.7.11)\n",
            "Requirement already satisfied: confection<1.0.0,>=0.0.1 in /usr/local/lib/python3.10/dist-packages (from thinc<8.3.0,>=8.2.2->spacy) (0.1.5)\n",
            "Requirement already satisfied: click>=8.0.0 in /usr/local/lib/python3.10/dist-packages (from typer<1.0.0,>=0.3.0->spacy) (8.1.7)\n",
            "Requirement already satisfied: shellingham>=1.3.0 in /usr/local/lib/python3.10/dist-packages (from typer<1.0.0,>=0.3.0->spacy) (1.5.4)\n",
            "Requirement already satisfied: rich>=10.11.0 in /usr/local/lib/python3.10/dist-packages (from typer<1.0.0,>=0.3.0->spacy) (13.8.0)\n",
            "Requirement already satisfied: cloudpathlib<1.0.0,>=0.7.0 in /usr/local/lib/python3.10/dist-packages (from weasel<0.5.0,>=0.1.0->spacy) (0.19.0)\n",
            "Requirement already satisfied: smart-open<8.0.0,>=5.2.1 in /usr/local/lib/python3.10/dist-packages (from weasel<0.5.0,>=0.1.0->spacy) (7.0.4)\n",
            "Requirement already satisfied: MarkupSafe>=2.0 in /usr/local/lib/python3.10/dist-packages (from jinja2->spacy) (2.1.5)\n",
            "Requirement already satisfied: marisa-trie>=0.7.7 in /usr/local/lib/python3.10/dist-packages (from language-data>=1.2->langcodes<4.0.0,>=3.2.0->spacy) (1.2.0)\n",
            "Requirement already satisfied: markdown-it-py>=2.2.0 in /usr/local/lib/python3.10/dist-packages (from rich>=10.11.0->typer<1.0.0,>=0.3.0->spacy) (3.0.0)\n",
            "Requirement already satisfied: pygments<3.0.0,>=2.13.0 in /usr/local/lib/python3.10/dist-packages (from rich>=10.11.0->typer<1.0.0,>=0.3.0->spacy) (2.16.1)\n",
            "Requirement already satisfied: wrapt in /usr/local/lib/python3.10/dist-packages (from smart-open<8.0.0,>=5.2.1->weasel<0.5.0,>=0.1.0->spacy) (1.16.0)\n",
            "Requirement already satisfied: mdurl~=0.1 in /usr/local/lib/python3.10/dist-packages (from markdown-it-py>=2.2.0->rich>=10.11.0->typer<1.0.0,>=0.3.0->spacy) (0.1.2)\n",
            "Collecting pyLDAvis\n",
            "  Downloading pyLDAvis-3.4.1-py3-none-any.whl.metadata (4.2 kB)\n",
            "Requirement already satisfied: numpy>=1.24.2 in /usr/local/lib/python3.10/dist-packages (from pyLDAvis) (1.26.4)\n",
            "Requirement already satisfied: scipy in /usr/local/lib/python3.10/dist-packages (from pyLDAvis) (1.13.1)\n",
            "Requirement already satisfied: pandas>=2.0.0 in /usr/local/lib/python3.10/dist-packages (from pyLDAvis) (2.1.4)\n",
            "Requirement already satisfied: joblib>=1.2.0 in /usr/local/lib/python3.10/dist-packages (from pyLDAvis) (1.4.2)\n",
            "Requirement already satisfied: jinja2 in /usr/local/lib/python3.10/dist-packages (from pyLDAvis) (3.1.4)\n",
            "Requirement already satisfied: numexpr in /usr/local/lib/python3.10/dist-packages (from pyLDAvis) (2.10.1)\n",
            "Collecting funcy (from pyLDAvis)\n",
            "  Downloading funcy-2.0-py2.py3-none-any.whl.metadata (5.9 kB)\n",
            "Requirement already satisfied: scikit-learn>=1.0.0 in /usr/local/lib/python3.10/dist-packages (from pyLDAvis) (1.3.2)\n",
            "Requirement already satisfied: gensim in /usr/local/lib/python3.10/dist-packages (from pyLDAvis) (4.3.3)\n",
            "Requirement already satisfied: setuptools in /usr/local/lib/python3.10/dist-packages (from pyLDAvis) (71.0.4)\n",
            "Requirement already satisfied: python-dateutil>=2.8.2 in /usr/local/lib/python3.10/dist-packages (from pandas>=2.0.0->pyLDAvis) (2.8.2)\n",
            "Requirement already satisfied: pytz>=2020.1 in /usr/local/lib/python3.10/dist-packages (from pandas>=2.0.0->pyLDAvis) (2024.1)\n",
            "Requirement already satisfied: tzdata>=2022.1 in /usr/local/lib/python3.10/dist-packages (from pandas>=2.0.0->pyLDAvis) (2024.1)\n",
            "Requirement already satisfied: threadpoolctl>=2.0.0 in /usr/local/lib/python3.10/dist-packages (from scikit-learn>=1.0.0->pyLDAvis) (3.5.0)\n",
            "Requirement already satisfied: smart-open>=1.8.1 in /usr/local/lib/python3.10/dist-packages (from gensim->pyLDAvis) (7.0.4)\n",
            "Requirement already satisfied: MarkupSafe>=2.0 in /usr/local/lib/python3.10/dist-packages (from jinja2->pyLDAvis) (2.1.5)\n",
            "Requirement already satisfied: six>=1.5 in /usr/local/lib/python3.10/dist-packages (from python-dateutil>=2.8.2->pandas>=2.0.0->pyLDAvis) (1.16.0)\n",
            "Requirement already satisfied: wrapt in /usr/local/lib/python3.10/dist-packages (from smart-open>=1.8.1->gensim->pyLDAvis) (1.16.0)\n",
            "Downloading pyLDAvis-3.4.1-py3-none-any.whl (2.6 MB)\n",
            "\u001b[2K   \u001b[90m━━━━━━━━━━━━━━━━━━━━━━━━━━━━━━━━━━━━━━━━\u001b[0m \u001b[32m2.6/2.6 MB\u001b[0m \u001b[31m34.0 MB/s\u001b[0m eta \u001b[36m0:00:00\u001b[0m\n",
            "\u001b[?25hDownloading funcy-2.0-py2.py3-none-any.whl (30 kB)\n",
            "Installing collected packages: funcy, pyLDAvis\n",
            "Successfully installed funcy-2.0 pyLDAvis-3.4.1\n"
          ]
        }
      ]
    },
    {
      "cell_type": "code",
      "source": [
        "import requests\n",
        "import gensim\n",
        "import gensim.corpora as corpora\n",
        "from gensim.models.ldamodel import LdaModel\n",
        "import nltk\n",
        "import spacy\n",
        "from nltk.corpus import stopwords\n",
        "from bs4 import BeautifulSoup\n",
        "import re\n",
        "import pyLDAvis\n",
        "import pyLDAvis.gensim_models\n",
        "from string import punctuation\n",
        "from spacy.lang.en import stop_words\n",
        "from gensim.models import Phrases\n",
        "from gensim.models.phrases import Phraser"
      ],
      "metadata": {
        "collapsed": true,
        "id": "9WjCEG3dVCkT"
      },
      "execution_count": 2,
      "outputs": []
    },
    {
      "cell_type": "markdown",
      "source": [
        "## Data extraction and cleaning"
      ],
      "metadata": {
        "id": "sghD4d-UVCkV"
      }
    },
    {
      "cell_type": "markdown",
      "source": [
        "In this part we are going to be using The Guardian API to get the data we will inject in the LDA model\n",
        " - First thing is to visit the website to get your api key\n",
        "  - You can get your key here: https://open-platform.theguardian.com/\n"
      ],
      "metadata": {
        "id": "jS1R4mjHVCkV"
      }
    },
    {
      "cell_type": "code",
      "source": [
        "api_key = 'c79b24f9-27cd-46bc-ab7e-e1b098fbb95a'\n",
        "page_size = 50\n",
        "total_articles_needed = 200\n",
        "url_template = 'https://content.guardianapis.com/search?q=technology&api-key={api_key}&show-fields=all&page={page}&page-size={page_size}'\n",
        "\n",
        "articles_list = []\n",
        "page = 1\n",
        "\n",
        "while len(articles_list) < total_articles_needed:\n",
        "    url = url_template.format(api_key=api_key, page=page, page_size=page_size)\n",
        "    response = requests.get(url)\n",
        "    data = response.json()\n",
        "\n",
        "    for article in data['response']['results']:\n",
        "        articles_list.append(article['fields']['body'])\n",
        "\n",
        "        if len(articles_list) >= total_articles_needed:\n",
        "            break\n",
        "\n",
        "    page += 1\n",
        "\n",
        "\n"
      ],
      "metadata": {
        "colab": {
          "base_uri": "https://localhost:8080/"
        },
        "collapsed": true,
        "outputId": "0cd92cf5-7fe8-4453-9862-7415c032832e",
        "id": "1_L9c2qzVCkV"
      },
      "execution_count": 3,
      "outputs": [
        {
          "output_type": "stream",
          "name": "stderr",
          "text": [
            "/usr/local/lib/python3.10/dist-packages/ipykernel/ipkernel.py:283: DeprecationWarning: `should_run_async` will not call `transform_cell` automatically in the future. Please pass the result to `transformed_cell` argument and any exception that happen during thetransform in `preprocessing_exc_tuple` in IPython 7.17 and above.\n",
            "  and should_run_async(code)\n"
          ]
        }
      ]
    },
    {
      "cell_type": "markdown",
      "source": [
        "Since the extraction process gives us text with HTML tags, these tags are treated as words to the model, which can result in poorly defined topics. To address this, we need to use the bs4 library with BeautifulSoup to obtain plain text, ensuring that only meaningful words are used for topic modeling."
      ],
      "metadata": {
        "id": "wnrAZCVUVCkW"
      }
    },
    {
      "cell_type": "code",
      "source": [
        "cleaned_articles = []\n",
        "bad_chars = [\";\", \",\", \":\", '!', \"*\", ',', '–', '{', '}', '(', ')', '[', ']', \"'\", '”', '.','£', '’','-','“',\"say\",\"say\",\"$\"]\n",
        "\n",
        "for article in articles_list:\n",
        "    soup = BeautifulSoup(article, 'html.parser')\n",
        "    text = soup.get_text()\n",
        "    cleaned_text = ''.join(i for i in text if i not in bad_chars)\n",
        "    cleaned_articles.append(cleaned_text)\n"
      ],
      "metadata": {
        "colab": {
          "base_uri": "https://localhost:8080/"
        },
        "collapsed": true,
        "outputId": "81f389b6-cb96-410b-e260-4e6356c63168",
        "id": "29NTlRGVVCkW"
      },
      "execution_count": 61,
      "outputs": [
        {
          "output_type": "stream",
          "name": "stderr",
          "text": [
            "/usr/local/lib/python3.10/dist-packages/ipykernel/ipkernel.py:283: DeprecationWarning: `should_run_async` will not call `transform_cell` automatically in the future. Please pass the result to `transformed_cell` argument and any exception that happen during thetransform in `preprocessing_exc_tuple` in IPython 7.17 and above.\n",
            "  and should_run_async(code)\n"
          ]
        }
      ]
    },
    {
      "cell_type": "code",
      "source": [
        "nltk.download('stopwords')\n",
        "nlp = spacy.load('en_core_web_sm')"
      ],
      "metadata": {
        "colab": {
          "base_uri": "https://localhost:8080/"
        },
        "id": "iPG2Z0syb5_t",
        "outputId": "ba863dd8-8405-46ee-b7b8-ab1de90498e2"
      },
      "execution_count": 31,
      "outputs": [
        {
          "output_type": "stream",
          "name": "stderr",
          "text": [
            "/usr/local/lib/python3.10/dist-packages/ipykernel/ipkernel.py:283: DeprecationWarning: `should_run_async` will not call `transform_cell` automatically in the future. Please pass the result to `transformed_cell` argument and any exception that happen during thetransform in `preprocessing_exc_tuple` in IPython 7.17 and above.\n",
            "  and should_run_async(code)\n",
            "[nltk_data] Downloading package stopwords to /root/nltk_data...\n",
            "[nltk_data]   Package stopwords is already up-to-date!\n"
          ]
        }
      ]
    },
    {
      "cell_type": "code",
      "source": [
        "docs = [nlp(doc) for doc in cleaned_articles] # Pre processing the data\n",
        "\n",
        "# Stemming and stopword removal\n",
        "processed_docs = []\n",
        "for doc in docs:\n",
        "    tokens = [token.lemma_ for token in doc if not token.is_stop and not token.is_punct]\n",
        "    processed_docs.append(tokens)"
      ],
      "metadata": {
        "colab": {
          "base_uri": "https://localhost:8080/"
        },
        "outputId": "f9390369-19b4-4bf9-895f-b37ca424d60d",
        "id": "Wy_LU6H1VCkW"
      },
      "execution_count": 32,
      "outputs": [
        {
          "output_type": "stream",
          "name": "stderr",
          "text": [
            "/usr/local/lib/python3.10/dist-packages/ipykernel/ipkernel.py:283: DeprecationWarning: `should_run_async` will not call `transform_cell` automatically in the future. Please pass the result to `transformed_cell` argument and any exception that happen during thetransform in `preprocessing_exc_tuple` in IPython 7.17 and above.\n",
            "  and should_run_async(code)\n"
          ]
        }
      ]
    },
    {
      "cell_type": "code",
      "source": [
        "id2word = corpora.Dictionary(processed_docs)\n",
        "corpus = [id2word.doc2bow(doc) for doc in processed_docs]"
      ],
      "metadata": {
        "colab": {
          "base_uri": "https://localhost:8080/"
        },
        "outputId": "97d15c5b-5968-408b-c20c-8b7a6e17df1a",
        "id": "b69NelhdVCkW"
      },
      "execution_count": 33,
      "outputs": [
        {
          "output_type": "stream",
          "name": "stderr",
          "text": [
            "/usr/local/lib/python3.10/dist-packages/ipykernel/ipkernel.py:283: DeprecationWarning: `should_run_async` will not call `transform_cell` automatically in the future. Please pass the result to `transformed_cell` argument and any exception that happen during thetransform in `preprocessing_exc_tuple` in IPython 7.17 and above.\n",
            "  and should_run_async(code)\n"
          ]
        }
      ]
    },
    {
      "cell_type": "code",
      "source": [
        "lda_model = LdaModel(corpus=corpus, id2word=id2word, num_topics=5, random_state=100, update_every=1, chunksize=10, passes=10, alpha='auto', per_word_topics=True)\n",
        "\n"
      ],
      "metadata": {
        "colab": {
          "base_uri": "https://localhost:8080/"
        },
        "outputId": "41fec7bc-d1f9-4baf-e51a-b3fdf8244e47",
        "id": "7WTnle_ZVBjj"
      },
      "execution_count": 56,
      "outputs": [
        {
          "output_type": "stream",
          "name": "stderr",
          "text": [
            "/usr/local/lib/python3.10/dist-packages/ipykernel/ipkernel.py:283: DeprecationWarning: `should_run_async` will not call `transform_cell` automatically in the future. Please pass the result to `transformed_cell` argument and any exception that happen during thetransform in `preprocessing_exc_tuple` in IPython 7.17 and above.\n",
            "  and should_run_async(code)\n"
          ]
        }
      ]
    },
    {
      "cell_type": "code",
      "source": [
        "for idx, topic in lda_model.print_topics(-1):\n",
        "    print(f'Tópico: {idx} \\nPalavras: {topic}')"
      ],
      "metadata": {
        "colab": {
          "base_uri": "https://localhost:8080/"
        },
        "outputId": "0fde2f57-5221-475f-d6da-9d0b0c735162",
        "id": "nn_FiORcVBjj"
      },
      "execution_count": 57,
      "outputs": [
        {
          "output_type": "stream",
          "name": "stdout",
          "text": [
            "Tópico: 0 \n",
            "Palavras: 0.018*\"say\" + 0.015*\"\n",
            "\" + 0.015*\" \" + 0.009*\"government\" + 0.007*\"service\" + 0.007*\"company\" + 0.005*\"UK\" + 0.005*\"outage\" + 0.005*\"library\" + 0.005*\"system\"\n",
            "Tópico: 1 \n",
            "Palavras: 0.014*\"say\" + 0.011*\"technology\" + 0.011*\"not\" + 0.011*\"people\" + 0.008*\" \" + 0.006*\"time\" + 0.006*\"s\" + 0.006*\"use\" + 0.005*\"way\" + 0.005*\"new\"\n",
            "Tópico: 2 \n",
            "Palavras: 0.029*\"AI\" + 0.012*\"company\" + 0.010*\" \" + 0.009*\"technology\" + 0.007*\"say\" + 0.007*\"model\" + 0.006*\"human\" + 0.006*\"tech\" + 0.005*\"  \" + 0.005*\"Trump\"\n",
            "Tópico: 3 \n",
            "Palavras: 0.007*\"song\" + 0.007*\"light\" + 0.007*\"art\" + 0.006*\"insect\" + 0.006*\"Kowalkiewicz\" + 0.006*\"Lenker\" + 0.006*\"artist\" + 0.005*\"film\" + 0.005*\"movie\" + 0.005*\"music\"\n",
            "Tópico: 4 \n",
            "Palavras: 0.017*\" \" + 0.016*\"say\" + 0.006*\"year\" + 0.005*\"need\" + 0.005*\"project\" + 0.005*\"work\" + 0.005*\"home\" + 0.004*\"heat\" + 0.004*\"price\" + 0.004*\"cost\"\n"
          ]
        },
        {
          "output_type": "stream",
          "name": "stderr",
          "text": [
            "/usr/local/lib/python3.10/dist-packages/ipykernel/ipkernel.py:283: DeprecationWarning: `should_run_async` will not call `transform_cell` automatically in the future. Please pass the result to `transformed_cell` argument and any exception that happen during thetransform in `preprocessing_exc_tuple` in IPython 7.17 and above.\n",
            "  and should_run_async(code)\n"
          ]
        }
      ]
    },
    {
      "cell_type": "code",
      "source": [
        "pyLDAvis.enable_notebook()\n",
        "lda_vis = pyLDAvis.gensim_models.prepare(lda_model, corpus, id2word)\n",
        "pyLDAvis.display(lda_vis)"
      ],
      "metadata": {
        "colab": {
          "base_uri": "https://localhost:8080/",
          "height": 917
        },
        "id": "KT5S3yNED-pX",
        "outputId": "2aedba37-ea3f-4c6a-8f89-0ea5b9ba4168"
      },
      "execution_count": 58,
      "outputs": [
        {
          "output_type": "stream",
          "name": "stderr",
          "text": [
            "/usr/local/lib/python3.10/dist-packages/ipykernel/ipkernel.py:283: DeprecationWarning: `should_run_async` will not call `transform_cell` automatically in the future. Please pass the result to `transformed_cell` argument and any exception that happen during thetransform in `preprocessing_exc_tuple` in IPython 7.17 and above.\n",
            "  and should_run_async(code)\n"
          ]
        },
        {
          "output_type": "execute_result",
          "data": {
            "text/plain": [
              "<IPython.core.display.HTML object>"
            ],
            "text/html": [
              "\n",
              "<link rel=\"stylesheet\" type=\"text/css\" href=\"https://cdn.jsdelivr.net/gh/bmabey/pyLDAvis@3.4.0/pyLDAvis/js/ldavis.v1.0.0.css\">\n",
              "\n",
              "\n",
              "<div id=\"ldavis_el1751324748951874404201960612\" style=\"background-color:white;\"></div>\n",
              "<script type=\"text/javascript\">\n",
              "\n",
              "var ldavis_el1751324748951874404201960612_data = {\"mdsDat\": {\"x\": [0.08968357094233376, 0.09205112041752783, 0.07950532105387785, 0.02621854763675342, -0.287458560050493], \"y\": [0.15509279567285014, -0.11411050087032713, 0.10483121264660969, -0.17105250933875882, 0.025239001889626106], \"topics\": [1, 2, 3, 4, 5], \"cluster\": [1, 1, 1, 1, 1], \"Freq\": [25.665743504970873, 25.259852951666804, 25.059932831421282, 18.545018341812586, 5.4694523701284545]}, \"tinfo\": {\"Term\": [\"AI\", \"\\n\", \"company\", \"people\", \"not\", \"service\", \"model\", \"government\", \"project\", \"human\", \"outage\", \"library\", \"Trump\", \"light\", \"home\", \"heat\", \"tech\", \"technology\", \"artificial\", \"pump\", \"cost\", \"BST\", \"energy\", \"price\", \"\\u00a0\", \"update\", \"thing\", \"online\", \"climate\", \"game\", \"\\u00a0\", \"game\", \"fan\", \"algorithm\", \"police\", \"facial\", \"recognition\", \"sense\", \"watch\", \"cinema\", \"subject\", \"season\", \"League\", \"Premier\", \"actor\", \"sport\", \"VAR\", \"easy\", \"referee\", \"Robert\", \"tv\", \"camera\", \"letter\", \"bit\", \"deaf\", \"bias\", \"simply\", \"stadium\", \"mind\", \"success\", \"caption\", \"feel\", \"screen\", \"match\", \"experience\", \"image\", \"right\", \"not\", \"thing\", \"people\", \"think\", \"video\", \"decision\", \"time\", \"s\", \"technology\", \"way\", \"like\", \"use\", \"want\", \"say\", \"new\", \"work\", \"look\", \" \", \"point\", \"make\", \"  \", \"go\", \"good\", \"human\", \"year\", \"\\n\", \"outage\", \"BST\", \"update\", \"online\", \"\\n\\n\", \"minister\", \"library\", \"election\", \"Saturday\", \"access\", \"platform\", \"CrowdStrike\", \"Friday\", \"fraud\", \"morning\", \"account\", \"court\", \"spokesperson\", \"scam\", \"email\", \"comment\", \"Synergy\", \"Meta\", \"Australias\", \"ban\", \"bank\", \"trial\", \"party\", \"normal\", \"service\", \"360\", \"selfservice\", \"flight\", \"customer\", \"government\", \"Australia\", \"warn\", \"affect\", \"|\", \"report\", \"say\", \"issue\", \" \", \"UK\", \"news\", \"company\", \"m\", \"tell\", \"policy\", \"medium\", \"system\", \"social\", \"  \", \"people\", \"include\", \"year\", \"project\", \"heat\", \"home\", \"pump\", \"cost\", \"energy\", \"climate\", \"Formula\", \"airport\", \"race\", \"school\", \"source\", \"low\", \"student\", \"food\", \"London\", \"nuclear\", \"China\", \"gas\", \"series\", \"electric\", \"air\", \"scale\", \"traditional\", \"especially\", \"let\", \"operation\", \"plant\", \"E\", \"Russia\", \"building\", \"water\", \"greyhound\", \"price\", \"small\", \"high\", \"build\", \"power\", \" \", \"say\", \"run\", \"need\", \"year\", \"big\", \"find\", \"work\", \"world\", \"help\", \"change\", \"job\", \"m\", \"new\", \"country\", \"UK\", \"technology\", \"s\", \"not\", \"AI\", \"model\", \"Trump\", \"value\", \"OpenAI\", \"stock\", \"   \", \"ChatGPT\", \"robot\", \"generative\", \"paper\", \"military\", \"summit\", \"thought\", \"advanced\", \"chatgpt\", \"internet\", \"Technology\", \"researcher\", \"council\", \"Priem\", \"voice\", \"Farahany\", \"quantum\", \"powerful\", \"chatbot\", \"Trumps\", \"merger\", \"Amazon\", \"computing\", \"brain\", \"artificial\", \"Media\", \"tech\", \"generate\", \"tool\", \"launch\", \"book\", \"intelligence\", \"company\", \"human\", \"advance\", \"share\", \"safety\", \"risk\", \"technology\", \"science\", \" \", \"research\", \"  \", \"include\", \"say\", \"system\", \"public\", \"new\", \"use\", \"create\", \"need\", \"year\", \"song\", \"art\", \"insect\", \"artist\", \"Kowalkiewicz\", \"Lenker\", \"film\", \"movie\", \"album\", \"painting\", \"band\", \"tour\", \"festival\", \"steak\", \"cake\", \"Harold\", \"Fabian\", \"lamp\", \"moth\", \"teacher\", \"trap\", \"collection\", \"Larumbe\", \"feeling\", \"Future\", \"minion\", \"room\", \"Music\", \"guitar\", \"IVF\", \"animal\", \"auction\", \"music\", \"light\", \"love\", \"work\", \"describe\", \"play\"], \"Freq\": [498.0, 359.0, 403.0, 369.0, 357.0, 176.0, 119.0, 247.0, 121.0, 163.0, 116.0, 114.0, 91.0, 66.0, 108.0, 105.0, 117.0, 553.0, 98.0, 96.0, 96.0, 94.0, 91.0, 115.0, 91.0, 89.0, 139.0, 89.0, 86.0, 87.0, 90.32029454469709, 86.44566700608394, 68.64508012582975, 69.80464407642955, 58.36528833968432, 44.97983837455351, 44.77299764618262, 43.155900357565166, 41.10317186490064, 45.171468042874, 39.911480116503334, 38.30254431361353, 37.480738156370066, 36.849432951335814, 44.78321490765635, 36.562559808871704, 35.77449190045297, 36.48914284751998, 34.75349395702194, 43.60686865696042, 34.8000317905328, 33.09367910480869, 33.21105997881208, 33.17688200683729, 37.392250174187694, 31.423414526016906, 31.639321393475104, 30.219368517652317, 30.810056747387183, 31.126833864838986, 33.20342784133512, 88.8522465992397, 47.80147460958911, 42.99434271129608, 76.75027568870613, 62.34292872835342, 83.74030533521561, 259.5067453573081, 112.92463557726369, 256.8396367997096, 120.58769371394293, 51.341688491413805, 46.19304014710605, 150.28331274890596, 146.77910575126614, 263.5726104544264, 126.94761409035492, 120.31723876960355, 142.6278839489193, 88.82888805738362, 330.3016795770596, 126.05629246442226, 116.21001168853672, 76.87902214578529, 187.83909792314577, 59.21976844768235, 67.00707498170202, 102.70983879379358, 74.8915687342356, 68.21251017912664, 61.30400016322423, 60.987903636380466, 358.90296829650856, 115.66642686090248, 94.2227648849993, 88.98578400213131, 88.76758014066705, 84.90391085229263, 80.81473300016894, 113.47759625138053, 67.38467674882646, 63.92233056048116, 57.34612485612199, 55.3195799229498, 52.98521207899645, 47.40019658839125, 48.3403255549274, 46.56147342851943, 46.117058097991695, 45.35991605843184, 43.50970112543661, 40.333252715051756, 39.93336574705679, 39.978230401543804, 44.881008750661785, 39.15907833081291, 37.539686477040696, 34.569068038098465, 34.87466094731414, 32.87714462537338, 32.37238694098872, 33.20991378358067, 169.79267202769532, 35.84694989934426, 39.8225051747934, 72.17970936099505, 67.85400800537461, 204.7060947574742, 75.92009732673016, 91.80226770987727, 56.261825874902875, 56.04019293810181, 103.35857134791824, 428.80271744136206, 84.57712328048476, 348.8761755962372, 121.83803475341571, 62.03687939755795, 164.06438513861278, 107.68325280171021, 91.3768914656448, 64.18367902578117, 79.17919637610117, 110.36795416725198, 77.71425349354806, 106.45070419849425, 89.77899197553904, 77.05130076609323, 80.32530692110849, 120.98983516207024, 104.79599733196935, 107.74639450612544, 95.78815268300707, 95.8174902771176, 90.97062329128063, 86.24863797701818, 79.79997882593717, 77.33984872830493, 63.849559892831685, 56.04618099939053, 55.43350439755203, 52.11021240071474, 49.60538677380001, 48.94993438457551, 52.198318161998586, 46.81758244038177, 47.37152369114776, 42.48861368793786, 41.39242739166416, 38.14628331312033, 36.161379579147656, 36.10046742672242, 35.00638409557466, 35.757473541215404, 34.388476060334455, 34.20834574839685, 32.20253542354284, 41.04850645130969, 32.706979055610034, 38.84426536897486, 83.13493694660701, 36.52703024757841, 104.74334936759426, 63.30992646201223, 84.28195811768688, 68.05952105574335, 81.32810431424707, 389.4795112104604, 368.59477585224994, 66.76518840819571, 127.43815521344304, 140.94473724296088, 82.14738561733937, 83.76306446256972, 111.88126696106852, 87.08500552992429, 76.11781542015834, 66.78133939913688, 62.029327352647215, 75.62469881221547, 81.36881815663313, 66.11790722806911, 73.04128956259751, 80.37670538935501, 72.2653200432042, 68.75385505505952, 497.68007249574856, 118.60249968442332, 90.50711112729942, 68.29404092273374, 65.28351629300337, 52.00486058271122, 52.544832874981815, 38.07616581966571, 39.85269530330695, 35.501184840328456, 35.20784077425692, 33.723890385821164, 32.88433283660368, 34.21564522874149, 32.20316877877153, 31.22967049736032, 33.504546120511066, 30.070676899595302, 30.54750671569794, 58.96143278416163, 38.596317676322414, 51.93097006350207, 37.7050780478005, 27.40245244763093, 27.880844585184857, 26.521072443604723, 25.317346263768087, 24.689339586196304, 24.102647406588332, 22.45545871128229, 57.05241763195811, 85.82251049293421, 52.712219833374306, 95.80044238765153, 56.08693130731588, 69.59889503682213, 52.975851459617054, 56.75680293807783, 66.46325921957676, 206.26182260321508, 101.36794082538034, 50.81298740383339, 66.66254829630878, 48.94405024906682, 61.19058622007278, 147.79240369972737, 54.452330227847945, 173.70335116568722, 61.74815688972732, 91.69899240110705, 74.4892930714781, 120.56884717693126, 73.74756274888665, 58.94945633552338, 67.32644182141387, 66.41530485544497, 58.536869906041424, 57.55941118022585, 56.13335168225068, 35.19252942901368, 33.89671175428312, 33.07431799010254, 28.281099947309848, 32.16359906545869, 28.455880914775413, 26.59063143667212, 23.107063806736388, 20.189332518727348, 16.362041400717253, 21.05224804062614, 17.22432664252192, 16.527148523707815, 16.12230457847537, 15.398187954198853, 13.44463838359057, 12.266026544696953, 15.239479129133516, 15.239479129133516, 12.97896405328882, 11.53871912744392, 11.981729636027705, 11.704491148185294, 11.953583093718217, 10.365397821461608, 13.025857847261673, 9.667932017983327, 9.613621092637642, 9.204361605609414, 9.285316189479538, 14.44930485362826, 11.636672771314819, 23.09096779009017, 34.8652206787695, 12.757101879019382, 15.683948354147267, 12.703874247585476, 12.740319477800963], \"Total\": [498.0, 359.0, 403.0, 369.0, 357.0, 176.0, 119.0, 247.0, 121.0, 163.0, 116.0, 114.0, 91.0, 66.0, 108.0, 105.0, 117.0, 553.0, 98.0, 96.0, 96.0, 94.0, 91.0, 115.0, 91.0, 89.0, 139.0, 89.0, 86.0, 87.0, 91.00563547775448, 87.13329862134619, 69.33204418143538, 70.55135128263429, 59.0537544363585, 45.660019901530504, 45.45305379269156, 43.845091895530985, 41.78587713473124, 45.956406303259726, 40.62246600946745, 38.985640586011, 38.158110930742644, 37.52715539173591, 45.60752239132724, 37.239989338683294, 36.44738499624561, 37.19080664637418, 35.426832954532955, 44.45610172830811, 35.491699690836356, 33.772010528159456, 33.89846683691694, 33.884718661980344, 38.19401421078116, 32.10885563445618, 32.337968774218716, 30.8951232113462, 31.51103999277081, 31.838882921170388, 33.98008206644614, 95.06289020566135, 50.48003386855384, 45.32093632269257, 87.10286088778332, 69.02104177717952, 96.65646664301968, 357.04652531754556, 139.99797934423077, 369.0654938941974, 160.67486243024132, 57.03886491087759, 50.681608654713365, 240.8175537438491, 244.3718918404967, 553.4322848183583, 211.34859759476802, 198.5828071538296, 301.18489122930225, 145.52556010229551, 1248.3891179544148, 289.1331068339679, 337.65281892930665, 143.06756813931625, 1106.4405674186432, 87.49556833084, 118.38741287505768, 342.56761172997483, 183.20725289563717, 144.43384252074844, 163.18943736467247, 346.53806899605013, 359.5621532458601, 116.328868583032, 94.89615147989784, 89.63844188916866, 89.42390199220665, 85.55334031816444, 81.46751553145506, 114.39446486831037, 68.03947477928087, 64.59960162624522, 58.02435641457612, 55.97914406854187, 53.6567932334265, 48.04941594914855, 49.0070365901947, 47.2110978122922, 46.78763746022046, 46.02898829767973, 44.16295373432745, 40.97954910532997, 40.59115722802868, 40.6504231946287, 45.64076359186318, 39.82203525199969, 38.19437329214004, 35.224444979329675, 35.55470028046476, 33.52839987306165, 33.02055066169986, 33.886553786271556, 176.63094272751252, 36.61436104130394, 40.80939599409401, 77.59816900258566, 72.6893632701989, 247.40646030078756, 89.9763911026041, 118.51378491518517, 63.993752841433576, 64.24098942650345, 156.03706977924264, 1248.3891179544148, 119.93059508912914, 1106.4405674186432, 214.90546499573398, 76.91792277372113, 403.8532722664875, 196.11733171630607, 157.99545173535532, 82.3722698911246, 121.79342423084069, 273.7769034646415, 127.23939739147713, 342.56761172997483, 369.0654938941974, 239.43332788752505, 346.53806899605013, 121.67001959981121, 105.44829201233895, 108.41747924564842, 96.44129234853197, 96.48301465290153, 91.6301600255655, 86.9039137857636, 80.5932911915991, 78.13997479425272, 64.60701401735565, 56.71602303287335, 56.118083923833446, 52.78600858375055, 50.27278485226397, 49.624259327915816, 52.926817180014076, 47.47688921305613, 48.04101146691462, 43.1438046539959, 42.07331678939915, 38.80456724354762, 36.83472518616422, 36.781839401360976, 35.68359012465578, 36.466954061066815, 35.08810728004285, 34.90462603345835, 32.86025126734448, 41.89094738790218, 33.38513922353207, 39.67753705702817, 86.5881701490928, 37.41962570546226, 115.8198781535863, 68.06155381775045, 101.72550535804321, 82.63819336329439, 112.35028043560021, 1106.4405674186432, 1248.3891179544148, 92.05159766791391, 266.56094805703054, 346.53806899605013, 138.29062332958895, 151.0460292611617, 337.65281892930665, 199.22939182204715, 147.4281508885306, 121.77083528486415, 94.837004482071, 196.11733171630607, 289.1331068339679, 123.68002899693572, 214.90546499573398, 553.4322848183583, 244.3718918404967, 357.04652531754556, 498.35408967029656, 119.28525900781904, 91.18059857690534, 68.98914882280978, 65.95581904793623, 52.686161166728, 53.443626318125254, 38.7482823314564, 40.56564255679633, 36.17801753230709, 35.90065082748142, 34.407654904951706, 33.553964331481744, 34.914621763692054, 32.885296840342754, 31.90410422680498, 34.25674531053111, 30.747769917080436, 31.241978248169474, 60.306374432405775, 39.50136273659188, 53.18480585974421, 38.63133942584729, 28.090666818726476, 28.58149454722219, 27.19640735817509, 25.99217190339374, 25.367484418808683, 24.797375742629075, 23.134505592767205, 59.23575697066513, 98.77017262528295, 58.8055743019429, 117.45516249469543, 64.26249249253722, 86.91369689987198, 63.51415084361735, 69.58584898144515, 85.88387504903253, 403.8532722664875, 163.18943736467247, 62.66754004582168, 93.69842677850842, 59.74709722298016, 100.80541330775172, 553.4322848183583, 84.15314619504015, 1106.4405674186432, 123.17154404428291, 342.56761172997483, 239.43332788752505, 1248.3891179544148, 273.7769034646415, 124.13441083213338, 289.1331068339679, 301.18489122930225, 132.09975074034318, 266.56094805703054, 346.53806899605013, 35.960162259935174, 34.65478826546876, 33.912779154486934, 29.016225238572172, 33.09208847499142, 29.343499450510215, 27.456154353757007, 23.991553759211634, 20.97928404774472, 17.092483263394293, 22.02769357590595, 18.024003554047958, 17.364971226001835, 16.950613463220318, 16.212473217476003, 14.191845677301119, 13.010502933581382, 16.1651701815643, 16.1651701815643, 13.777338044305317, 12.308501735421396, 12.810630302050377, 12.545956318401432, 12.833197715020404, 11.144139418046178, 14.012103634042344, 10.432191625449555, 10.398353738728636, 9.972557651750236, 10.142753569661238, 15.853091117473555, 12.823972379206886, 29.808585686618407, 66.69984632679771, 31.11744889135509, 337.65281892930665, 44.301168277319775, 51.64862126008421], \"Category\": [\"Default\", \"Default\", \"Default\", \"Default\", \"Default\", \"Default\", \"Default\", \"Default\", \"Default\", \"Default\", \"Default\", \"Default\", \"Default\", \"Default\", \"Default\", \"Default\", \"Default\", \"Default\", \"Default\", \"Default\", \"Default\", \"Default\", \"Default\", \"Default\", \"Default\", \"Default\", \"Default\", \"Default\", \"Default\", \"Default\", \"Topic1\", \"Topic1\", \"Topic1\", \"Topic1\", \"Topic1\", \"Topic1\", \"Topic1\", \"Topic1\", \"Topic1\", \"Topic1\", \"Topic1\", \"Topic1\", \"Topic1\", \"Topic1\", \"Topic1\", \"Topic1\", \"Topic1\", \"Topic1\", \"Topic1\", \"Topic1\", \"Topic1\", \"Topic1\", \"Topic1\", \"Topic1\", \"Topic1\", \"Topic1\", \"Topic1\", \"Topic1\", \"Topic1\", \"Topic1\", \"Topic1\", \"Topic1\", \"Topic1\", \"Topic1\", \"Topic1\", \"Topic1\", \"Topic1\", \"Topic1\", \"Topic1\", \"Topic1\", \"Topic1\", \"Topic1\", \"Topic1\", \"Topic1\", \"Topic1\", \"Topic1\", \"Topic1\", \"Topic1\", \"Topic1\", \"Topic1\", \"Topic1\", \"Topic1\", \"Topic1\", \"Topic1\", \"Topic1\", \"Topic1\", \"Topic1\", \"Topic1\", \"Topic1\", \"Topic1\", \"Topic1\", \"Topic1\", \"Topic2\", \"Topic2\", \"Topic2\", \"Topic2\", \"Topic2\", \"Topic2\", \"Topic2\", \"Topic2\", \"Topic2\", \"Topic2\", \"Topic2\", \"Topic2\", \"Topic2\", \"Topic2\", \"Topic2\", \"Topic2\", \"Topic2\", \"Topic2\", \"Topic2\", \"Topic2\", \"Topic2\", \"Topic2\", \"Topic2\", \"Topic2\", \"Topic2\", \"Topic2\", \"Topic2\", \"Topic2\", \"Topic2\", \"Topic2\", \"Topic2\", \"Topic2\", \"Topic2\", \"Topic2\", \"Topic2\", \"Topic2\", \"Topic2\", \"Topic2\", \"Topic2\", \"Topic2\", \"Topic2\", \"Topic2\", \"Topic2\", \"Topic2\", \"Topic2\", \"Topic2\", \"Topic2\", \"Topic2\", \"Topic2\", \"Topic2\", \"Topic2\", \"Topic2\", \"Topic2\", \"Topic2\", \"Topic2\", \"Topic2\", \"Topic2\", \"Topic3\", \"Topic3\", \"Topic3\", \"Topic3\", \"Topic3\", \"Topic3\", \"Topic3\", \"Topic3\", \"Topic3\", \"Topic3\", \"Topic3\", \"Topic3\", \"Topic3\", \"Topic3\", \"Topic3\", \"Topic3\", \"Topic3\", \"Topic3\", \"Topic3\", \"Topic3\", \"Topic3\", \"Topic3\", \"Topic3\", \"Topic3\", \"Topic3\", \"Topic3\", \"Topic3\", \"Topic3\", \"Topic3\", \"Topic3\", \"Topic3\", \"Topic3\", \"Topic3\", \"Topic3\", \"Topic3\", \"Topic3\", \"Topic3\", \"Topic3\", \"Topic3\", \"Topic3\", \"Topic3\", \"Topic3\", \"Topic3\", \"Topic3\", \"Topic3\", \"Topic3\", \"Topic3\", \"Topic3\", \"Topic3\", \"Topic3\", \"Topic3\", \"Topic3\", \"Topic3\", \"Topic3\", \"Topic3\", \"Topic3\", \"Topic3\", \"Topic4\", \"Topic4\", \"Topic4\", \"Topic4\", \"Topic4\", \"Topic4\", \"Topic4\", \"Topic4\", \"Topic4\", \"Topic4\", \"Topic4\", \"Topic4\", \"Topic4\", \"Topic4\", \"Topic4\", \"Topic4\", \"Topic4\", \"Topic4\", \"Topic4\", \"Topic4\", \"Topic4\", \"Topic4\", \"Topic4\", \"Topic4\", \"Topic4\", \"Topic4\", \"Topic4\", \"Topic4\", \"Topic4\", \"Topic4\", \"Topic4\", \"Topic4\", \"Topic4\", \"Topic4\", \"Topic4\", \"Topic4\", \"Topic4\", \"Topic4\", \"Topic4\", \"Topic4\", \"Topic4\", \"Topic4\", \"Topic4\", \"Topic4\", \"Topic4\", \"Topic4\", \"Topic4\", \"Topic4\", \"Topic4\", \"Topic4\", \"Topic4\", \"Topic4\", \"Topic4\", \"Topic4\", \"Topic4\", \"Topic4\", \"Topic4\", \"Topic4\", \"Topic4\", \"Topic5\", \"Topic5\", \"Topic5\", \"Topic5\", \"Topic5\", \"Topic5\", \"Topic5\", \"Topic5\", \"Topic5\", \"Topic5\", \"Topic5\", \"Topic5\", \"Topic5\", \"Topic5\", \"Topic5\", \"Topic5\", \"Topic5\", \"Topic5\", \"Topic5\", \"Topic5\", \"Topic5\", \"Topic5\", \"Topic5\", \"Topic5\", \"Topic5\", \"Topic5\", \"Topic5\", \"Topic5\", \"Topic5\", \"Topic5\", \"Topic5\", \"Topic5\", \"Topic5\", \"Topic5\", \"Topic5\", \"Topic5\", \"Topic5\", \"Topic5\"], \"logprob\": [30.0, 29.0, 28.0, 27.0, 26.0, 25.0, 24.0, 23.0, 22.0, 21.0, 20.0, 19.0, 18.0, 17.0, 16.0, 15.0, 14.0, 13.0, 12.0, 11.0, 10.0, 9.0, 8.0, 7.0, 6.0, 5.0, 4.0, 3.0, 2.0, 1.0, -5.5849, -5.6287, -5.8593, -5.8425, -6.0215, -6.282, -6.2866, -6.3234, -6.3722, -6.2778, -6.4016, -6.4427, -6.4644, -6.4814, -6.2864, -6.4892, -6.511, -6.4912, -6.54, -6.313, -6.5386, -6.5889, -6.5854, -6.5864, -6.4668, -6.6407, -6.6338, -6.6798, -6.6604, -6.6502, -6.5856, -5.6013, -6.2212, -6.3272, -5.7477, -5.9556, -5.6605, -4.5295, -5.3615, -4.5398, -5.2959, -6.1497, -6.2554, -5.0757, -5.0993, -4.5139, -5.2445, -5.2981, -5.128, -5.6015, -4.2882, -5.2515, -5.3328, -5.746, -4.8527, -6.007, -5.8834, -5.4563, -5.7722, -5.8656, -5.9724, -5.9776, -4.1893, -5.3216, -5.5266, -5.5838, -5.5863, -5.6308, -5.6801, -5.3407, -5.8619, -5.9146, -6.0232, -6.0592, -6.1023, -6.2137, -6.194, -6.2315, -6.2411, -6.2577, -6.2993, -6.3751, -6.3851, -6.384, -6.2683, -6.4047, -6.4469, -6.5293, -6.5205, -6.5795, -6.595, -6.5695, -4.9377, -6.493, -6.3879, -5.7931, -5.8549, -4.7507, -5.7426, -5.5527, -6.0423, -6.0462, -5.4341, -4.0113, -5.6346, -4.2176, -5.2696, -5.9446, -4.972, -5.3931, -5.5573, -5.9106, -5.7006, -5.3685, -5.7193, -5.4046, -5.575, -5.7278, -5.6862, -5.2687, -5.4123, -5.3846, -5.5022, -5.5019, -5.5538, -5.6071, -5.6848, -5.7161, -5.9078, -6.0382, -6.0492, -6.111, -6.1603, -6.1736, -6.1093, -6.2181, -6.2063, -6.3151, -6.3413, -6.4229, -6.4764, -6.4781, -6.5088, -6.4876, -6.5266, -6.5319, -6.5923, -6.3496, -6.5768, -6.4048, -5.6439, -6.4663, -5.4128, -5.9163, -5.6302, -5.844, -5.6659, -4.0995, -4.1547, -5.8632, -5.2167, -5.116, -5.6558, -5.6364, -5.3469, -5.5975, -5.7321, -5.8629, -5.9368, -5.7386, -5.6654, -5.8729, -5.7733, -5.6776, -5.784, -5.8338, -3.5533, -4.9875, -5.2579, -5.5395, -5.5846, -5.812, -5.8016, -6.1237, -6.0781, -6.1937, -6.202, -6.2451, -6.2703, -6.2306, -6.2912, -6.3219, -6.2516, -6.3597, -6.344, -5.6864, -6.1101, -5.8134, -6.1335, -6.4527, -6.4354, -6.4854, -6.5318, -6.5569, -6.581, -6.6518, -5.7193, -5.311, -5.7984, -5.201, -5.7364, -5.5205, -5.7935, -5.7245, -5.5666, -4.4341, -5.1445, -5.8351, -5.5636, -5.8726, -5.6493, -4.7675, -5.766, -4.6059, -5.6402, -5.2448, -5.4526, -4.9711, -5.4626, -5.6866, -5.5537, -5.5674, -5.6936, -5.7105, -5.7356, -4.9814, -5.0189, -5.0435, -5.2001, -5.0714, -5.1939, -5.2617, -5.4021, -5.5371, -5.7473, -5.4953, -5.6959, -5.7373, -5.7621, -5.808, -5.9437, -6.0354, -5.8184, -5.8184, -5.9789, -6.0966, -6.0589, -6.0823, -6.0612, -6.2038, -5.9753, -6.2735, -6.2791, -6.3226, -6.3138, -5.8716, -6.0881, -5.4028, -4.9908, -5.9962, -5.7896, -6.0004, -5.9975], \"loglift\": [30.0, 29.0, 28.0, 27.0, 26.0, 25.0, 24.0, 23.0, 22.0, 21.0, 20.0, 19.0, 18.0, 17.0, 16.0, 15.0, 14.0, 13.0, 12.0, 11.0, 10.0, 9.0, 8.0, 7.0, 6.0, 5.0, 4.0, 3.0, 2.0, 1.0, 1.3525, 1.3521, 1.3501, 1.3494, 1.3483, 1.345, 1.3449, 1.3442, 1.3435, 1.3428, 1.3424, 1.3423, 1.3421, 1.3418, 1.3418, 1.3417, 1.3414, 1.341, 1.3408, 1.3407, 1.3403, 1.3397, 1.3395, 1.3389, 1.3388, 1.3384, 1.3382, 1.3379, 1.3375, 1.3374, 1.3369, 1.2924, 1.3055, 1.3073, 1.2335, 1.2583, 1.2166, 1.0409, 1.1451, 0.9975, 1.073, 1.2548, 1.2673, 0.8885, 0.8503, 0.6182, 0.8503, 0.8589, 0.6125, 0.8664, 0.0304, 0.5299, 0.2934, 0.7389, -0.4133, 0.9697, 0.7908, 0.1555, 0.4654, 0.6098, 0.3809, -0.3773, 1.3741, 1.3702, 1.3688, 1.3686, 1.3686, 1.3683, 1.3679, 1.3679, 1.3663, 1.3654, 1.3642, 1.3641, 1.3634, 1.3624, 1.3623, 1.3621, 1.3615, 1.3613, 1.3611, 1.3601, 1.3596, 1.3593, 1.3592, 1.3592, 1.3587, 1.3572, 1.3566, 1.3563, 1.3561, 1.3558, 1.3365, 1.3548, 1.3515, 1.3036, 1.3071, 1.1865, 1.2061, 1.1206, 1.2472, 1.2394, 0.9641, 0.3073, 1.0267, 0.2218, 0.8084, 1.1609, 0.4752, 0.7764, 0.8284, 1.1265, 0.9453, 0.4675, 0.8829, 0.2072, -0.0377, 0.2422, -0.086, 1.3783, 1.3777, 1.3777, 1.3771, 1.377, 1.3767, 1.3763, 1.374, 1.3736, 1.3721, 1.372, 1.3716, 1.371, 1.3705, 1.3702, 1.37, 1.3699, 1.3699, 1.3686, 1.3676, 1.3668, 1.3655, 1.3652, 1.3647, 1.3643, 1.3638, 1.3638, 1.3637, 1.3636, 1.3634, 1.3627, 1.3432, 1.3598, 1.2834, 1.3115, 1.1958, 1.1898, 1.0608, 0.3398, 0.164, 1.0627, 0.6459, 0.4843, 0.8631, 0.7943, 0.2793, 0.5563, 0.7228, 0.7832, 0.9593, 0.431, 0.116, 0.7576, 0.3047, -0.5455, 0.1656, -0.2634, 1.6836, 1.6792, 1.6776, 1.6748, 1.6747, 1.672, 1.668, 1.6675, 1.6672, 1.6661, 1.6655, 1.6649, 1.6648, 1.6647, 1.664, 1.6636, 1.6628, 1.6627, 1.6625, 1.6624, 1.6618, 1.6611, 1.6607, 1.6602, 1.6601, 1.6598, 1.6587, 1.6579, 1.6566, 1.6552, 1.6474, 1.5445, 1.5756, 1.4812, 1.5489, 1.4628, 1.5035, 1.4812, 1.4286, 1.0131, 1.2088, 1.4753, 1.3445, 1.4855, 1.1858, 0.3646, 1.2497, -0.1666, 0.9945, 0.367, 0.5173, -0.6524, 0.3733, 0.9403, 0.2276, 0.1732, 0.8711, 0.1522, -0.1353, 2.8844, 2.8839, 2.881, 2.8803, 2.8775, 2.8753, 2.874, 2.8684, 2.8676, 2.8623, 2.8607, 2.8606, 2.8565, 2.8559, 2.8545, 2.8519, 2.8471, 2.847, 2.847, 2.8463, 2.8414, 2.8391, 2.8366, 2.835, 2.8336, 2.833, 2.8299, 2.8275, 2.8258, 2.8177, 2.8133, 2.8088, 2.6506, 2.2573, 2.0143, -0.1634, 1.6569, 1.5063]}, \"token.table\": {\"Topic\": [2, 2, 1, 2, 3, 4, 5, 1, 2, 3, 4, 4, 2, 4, 4, 2, 4, 2, 2, 4, 3, 2, 3, 5, 4, 3, 2, 5, 5, 5, 5, 5, 1, 5, 3, 2, 4, 2, 5, 4, 1, 4, 1, 3, 2, 2, 4, 4, 4, 2, 3, 4, 1, 2, 2, 1, 1, 4, 4, 2, 3, 3, 3, 5, 1, 4, 5, 5, 1, 4, 5, 5, 2, 5, 2, 1, 1, 3, 4, 1, 2, 4, 4, 5, 3, 4, 3, 5, 1, 1, 1, 2, 3, 4, 4, 1, 3, 5, 2, 1, 2, 3, 4, 4, 3, 2, 4, 2, 3, 2, 1, 2, 3, 4, 2, 3, 1, 1, 3, 2, 3, 5, 1, 2, 3, 2, 3, 3, 1, 3, 1, 1, 1, 5, 5, 5, 5, 1, 3, 4, 2, 3, 3, 2, 1, 3, 3, 4, 4, 1, 2, 3, 1, 3, 4, 2, 3, 4, 3, 5, 3, 1, 2, 3, 4, 1, 2, 3, 3, 1, 4, 1, 2, 1, 2, 3, 4, 5, 1, 4, 4, 1, 2, 2, 3, 4, 5, 3, 4, 3, 1, 2, 3, 5, 1, 3, 4, 5, 1, 2, 3, 3, 5, 3, 2, 3, 4, 1, 2, 3, 4, 1, 3, 1, 2, 4, 4, 1, 5, 2, 4, 2, 5, 5, 2, 5, 1, 2, 3, 4, 1, 2, 3, 4, 1, 2, 2, 1, 2, 3, 3, 2, 3, 2, 5, 4, 2, 1, 2, 3, 3, 2, 1, 2, 5, 1, 2, 3, 4, 1, 2, 4, 2, 3, 4, 4, 3, 4, 3, 1, 2, 4, 3, 4, 3, 1, 1, 2, 3, 4, 1, 3, 4, 4, 1, 3, 1, 2, 4, 4, 5, 2, 3, 1, 2, 3, 4, 2, 4, 1, 2, 3, 4, 3, 2, 3, 3, 4, 1, 5, 1, 2, 1, 3, 2, 4, 1, 2, 3, 4, 1, 3, 5, 1, 2, 4, 5, 3, 2, 1, 1, 5, 4, 3, 1, 1, 4, 1, 2, 3, 4, 5, 1, 2, 4, 1, 2, 3, 4, 1, 2, 3, 4, 1, 3, 1, 2, 3, 4, 1, 2, 3, 4, 1, 4, 5, 3, 5, 2, 1, 2, 1, 2, 3, 4, 4, 1, 5, 2, 4, 1, 2, 3, 1, 2, 4, 1, 3, 5, 1, 2, 3, 4, 1, 2, 3, 4, 5, 1, 2, 3, 4, 1, 2, 3, 4, 5, 1, 2, 1], \"Freq\": [0.9984365616881938, 0.9935322184252932, 0.16991423266286165, 0.31542588935818466, 0.3515778537545382, 0.1572610451241379, 0.0063265937693618695, 0.30067057267862385, 0.3094279679993605, 0.12260353449031265, 0.26856012316925626, 0.9916991725919841, 0.983220763005781, 0.9992894817607881, 0.9678443497043798, 0.844666018148403, 0.1555963717641795, 0.994910944325403, 0.9905565034416841, 0.9806886322068286, 0.97833077541193, 0.9877593647728964, 0.9787317441247586, 0.9223317546800459, 0.9836573249793955, 0.9926384543573404, 0.9781596523408491, 0.8973326360047663, 0.9160189798845266, 0.8873330046113498, 0.9669985025025923, 0.9564834832398814, 0.969649678600583, 0.9542147502626223, 0.9824887036592094, 0.10203114366662625, 0.9012751023885318, 0.9793572767740844, 0.9616906917443125, 0.9855081922757786, 0.985952695155466, 0.9873077103710287, 0.9897404020915832, 0.9884637526609265, 0.9907181838409107, 0.9859607170994524, 0.975680515396824, 0.9980193310888059, 0.9618280493418793, 0.5676914730968884, 0.3396842420989578, 0.09306417591752268, 0.987725182580542, 0.982346096055642, 0.9831656928416161, 0.9866793379803774, 0.17552946855671922, 0.8138184451266074, 0.973079250443113, 0.8750854187089038, 0.10938567733861297, 0.977338634075713, 0.9854111189918561, 0.9533213790558314, 0.9921851066973114, 0.06307918074714038, 0.8831085304599653, 0.9811054027959186, 0.121494168543432, 0.8707082078945959, 0.9649773452536731, 0.9357474926768483, 0.993628147172755, 0.9533453844196358, 0.9843986793282143, 0.9654657379546638, 0.32540167161407035, 0.592954157163417, 0.07954263083899497, 0.9738903347315371, 0.17244885527228046, 0.8191320625433322, 0.9622566320580266, 0.03376339059852725, 0.8228640684466334, 0.16941319056254217, 0.9829239134461811, 0.9252135561791378, 0.9771405221043696, 0.9711571601113369, 0.2874251450942492, 0.1642429400538567, 0.5502138491804199, 0.9927781873690735, 0.9716618206743014, 0.9791888361124554, 0.98959869876526, 0.9367220594976787, 0.9839995959817057, 0.012380734151141628, 0.4060880801574454, 0.07180825807662145, 0.5100862470270351, 0.9509604565259481, 0.9949937856456996, 0.016581995011503255, 0.978337705678692, 0.4608666448599573, 0.5336350624694243, 0.9776447770038952, 0.43906214565086865, 0.015140073987960988, 0.10598051791572691, 0.4466321826448491, 0.9354876276358657, 0.05502868397858034, 0.9687381848843706, 0.9076270706676163, 0.07892409310153185, 0.5868919717250627, 0.1128638407163582, 0.29344598586253134, 0.9679811557276273, 0.9847224749654093, 0.9792661714664166, 0.9854363051364183, 0.9931227881148557, 0.9871951449445198, 0.8840122955226571, 0.1148067916263191, 0.9855449055222952, 0.9952108121813565, 0.9362223240578448, 0.06311611173423673, 0.9350748166183709, 0.9789823305059477, 0.9833860799338568, 0.2979224294747535, 0.5561218683528732, 0.1456509655209906, 0.9278569446348776, 0.06443451004408872, 0.9874202791866227, 0.9794511837429446, 0.9869935071978493, 0.9734885538452399, 0.1244894134930891, 0.8714258944516237, 0.995079400573895, 0.40937243921627525, 0.32749795137302024, 0.2619983610984162, 0.47080378679416185, 0.2630962337967375, 0.2630962337967375, 0.8285959863407311, 0.07679670117304337, 0.09296442773578935, 0.9887859459427729, 0.9024766077356748, 0.9957487029539891, 0.23740377796953618, 0.054263720678751126, 0.5155053464481357, 0.18992302237562894, 0.11796451595657949, 0.049151881648574786, 0.8257516116960564, 0.996149336356525, 0.37379870281485134, 0.6189126062999998, 0.8982767921723707, 0.08693001214571329, 0.09188361617867419, 0.3215926566253597, 0.27565084853602256, 0.309063072600995, 0.9730845074557635, 0.2212289558331245, 0.7684795307887483, 0.9925052625927022, 0.2918354567822244, 0.7087432521854021, 0.052722036375002265, 0.6537532510500281, 0.28469899642501223, 0.9279209455590435, 0.1574452286171896, 0.8344597116711049, 0.968989285419173, 0.9734953547828756, 0.9878100319808685, 0.46476868699388985, 0.5247388401543918, 0.6042819200709735, 0.17624889335403393, 0.2064629893575826, 0.015107048001774337, 0.5382072331376947, 0.11882497354988064, 0.3424955119967148, 0.578453589265818, 0.41777203669197965, 0.9851095279821458, 0.5506907474971545, 0.38752311860910876, 0.0662868492357686, 0.5659385434050297, 0.008446843931418353, 0.2196179422168772, 0.20272425435404048, 0.9487888708616451, 0.04412971492379745, 0.34484620385083736, 0.6486392881956227, 0.9855135648162175, 0.9881522031629932, 0.9837821921178085, 0.9277693299681682, 0.9942613257762285, 0.9976085979928137, 0.995528640042824, 0.9279209455590435, 0.9586707151540395, 0.20128428980424604, 0.7715897775829431, 0.1500594903025406, 0.1575624648176676, 0.47643888171056636, 0.21758626093868386, 0.4357854462939603, 0.04842060514377337, 0.2801477869032602, 0.23172718175948684, 0.1820121955345247, 0.8060540087957522, 0.9738375937587751, 0.7281964157717666, 0.07842115246772871, 0.19325212572404576, 0.9899553399356884, 0.9952596343621464, 0.9740829186196922, 0.9971729409299871, 0.9360839939662844, 0.9749126880231378, 0.9690934693320066, 0.6963533688513183, 0.24385915640707645, 0.05961001601061869, 0.9738209163300169, 0.9825087702780344, 0.5421248296058454, 0.19361601057351624, 0.2517008137455711, 0.6743198670006693, 0.14857895374591018, 0.06857490172888162, 0.10286235259332244, 0.982156012832442, 0.7769604999909786, 0.21852014062246272, 0.017801468694565573, 0.7209594821299057, 0.24922056172391802, 0.9796548586267437, 0.9065801283330803, 0.09497506106346557, 0.9944931413505562, 0.37056606376619994, 0.15305989590343042, 0.47529125570012604, 0.9954242385415453, 0.9611733382562714, 0.9906045183082972, 0.9900324894613701, 0.9879517044303465, 0.6600995529185586, 0.10894846989917957, 0.22430567332184032, 0.2110877167428576, 0.2841565417692314, 0.5033630168483527, 0.9922547078726152, 0.869057217974213, 0.12415103113917328, 0.14880153265386722, 0.23808245224618757, 0.6051262327923934, 0.9860561174150178, 0.9585713490542855, 0.27158681254170297, 0.727852657611764, 0.6015421777556478, 0.08184247316403372, 0.2946329033905214, 0.02046061829100843, 0.16737214801715525, 0.8201235252840606, 0.2643406572950038, 0.3436428544835049, 0.29558091679350423, 0.09692490767483472, 0.9787438743117332, 0.9760966353531066, 0.987375295470588, 0.3446098133133044, 0.6416872385833944, 0.9508709943616191, 0.03961962476506747, 0.974717855826007, 0.980166430441383, 0.9807255074856595, 0.9744893706675964, 0.9624587706711047, 0.03396913308250958, 0.032017613348958696, 0.22412329344271087, 0.02134507556597246, 0.7150600314600775, 0.9895488558178038, 0.9256327025488743, 0.058770330320563446, 0.29864963823339635, 0.6130176784790767, 0.09431041207370411, 0.9732992789911592, 0.9800762277387985, 0.9963101712963373, 0.9935556013053418, 0.9710270386292725, 0.9439186395652893, 0.9869764440693144, 0.9945739060792913, 0.9846768039802808, 0.97365225019837, 0.9834903462968162, 0.11688349015216626, 0.4017869973980715, 0.21185132590080136, 0.2702930709768845, 0.9435785024795396, 0.06811109729094539, 0.11068053309778625, 0.8173331674913447, 0.4770231286500521, 0.1120281590011486, 0.1445524632272885, 0.2674220569704837, 0.20886677203389045, 0.5759659471237585, 0.1582324030559776, 0.05696366510015194, 0.8071545070100804, 0.192859926453736, 0.7530736181743016, 0.056013740194782766, 0.18671246731594257, 0.9738040477745293, 0.6228781817107519, 0.14118572118777042, 0.15364328482198547, 0.07889790301669525, 0.19559632838521038, 0.8053966462920427, 0.9431866759803218, 0.9808430115280511, 0.9749358823638469, 0.9842402299226276, 0.9861460652738672, 0.9928775882789435, 0.47479141273102327, 0.10956724909177461, 0.1958929604974152, 0.21913449818354921, 0.9856622550112875, 0.8941271899377164, 0.08765952842526632, 0.01880236251378148, 0.9777228507166369, 0.6115764126758109, 0.21302099767359706, 0.1786627722423717, 0.02531351101601355, 0.7762810044910822, 0.2025080881281084, 0.9811927572515156, 0.9585605037857426, 0.03464676519707503, 0.6009029699998535, 0.028389116692906464, 0.30281724472433563, 0.07097279173226616, 0.3435481461929882, 0.16585082919661498, 0.33170165839322996, 0.11254163409770301, 0.04738595119903285, 0.29112170382875, 0.04517405749066811, 0.43668255574312503, 0.23088962717452588, 0.17602683646481357, 0.23085486749483747, 0.40688170395965106, 0.16159840724638624, 0.023085486749483748, 0.12453108321366385, 0.8717175824956469, 0.988949745007821], \"Term\": [\"\\n\", \"\\n\\n\", \" \", \" \", \" \", \" \", \" \", \"  \", \"  \", \"  \", \"  \", \"   \", \"360\", \"AI\", \"Amazon\", \"Australia\", \"Australia\", \"Australias\", \"BST\", \"ChatGPT\", \"China\", \"CrowdStrike\", \"E\", \"Fabian\", \"Farahany\", \"Formula\", \"Friday\", \"Future\", \"Harold\", \"IVF\", \"Kowalkiewicz\", \"Larumbe\", \"League\", \"Lenker\", \"London\", \"Media\", \"Media\", \"Meta\", \"Music\", \"OpenAI\", \"Premier\", \"Priem\", \"Robert\", \"Russia\", \"Saturday\", \"Synergy\", \"Technology\", \"Trump\", \"Trumps\", \"UK\", \"UK\", \"UK\", \"VAR\", \"access\", \"account\", \"actor\", \"advance\", \"advance\", \"advanced\", \"affect\", \"affect\", \"air\", \"airport\", \"album\", \"algorithm\", \"animal\", \"animal\", \"art\", \"artificial\", \"artificial\", \"artist\", \"auction\", \"ban\", \"band\", \"bank\", \"bias\", \"big\", \"big\", \"big\", \"bit\", \"book\", \"book\", \"brain\", \"brain\", \"build\", \"build\", \"building\", \"cake\", \"camera\", \"caption\", \"change\", \"change\", \"change\", \"chatbot\", \"chatgpt\", \"cinema\", \"climate\", \"collection\", \"comment\", \"company\", \"company\", \"company\", \"company\", \"computing\", \"cost\", \"council\", \"council\", \"country\", \"country\", \"court\", \"create\", \"create\", \"create\", \"create\", \"customer\", \"customer\", \"deaf\", \"decision\", \"decision\", \"describe\", \"describe\", \"describe\", \"easy\", \"election\", \"electric\", \"email\", \"energy\", \"especially\", \"experience\", \"experience\", \"facial\", \"fan\", \"feel\", \"feel\", \"feeling\", \"festival\", \"film\", \"find\", \"find\", \"find\", \"flight\", \"flight\", \"food\", \"fraud\", \"game\", \"gas\", \"generate\", \"generate\", \"generative\", \"go\", \"go\", \"go\", \"good\", \"good\", \"good\", \"government\", \"government\", \"government\", \"greyhound\", \"guitar\", \"heat\", \"help\", \"help\", \"help\", \"help\", \"high\", \"high\", \"high\", \"home\", \"human\", \"human\", \"image\", \"image\", \"include\", \"include\", \"include\", \"include\", \"insect\", \"intelligence\", \"intelligence\", \"internet\", \"issue\", \"issue\", \"job\", \"job\", \"job\", \"lamp\", \"launch\", \"launch\", \"let\", \"letter\", \"library\", \"light\", \"light\", \"like\", \"like\", \"like\", \"like\", \"look\", \"look\", \"look\", \"love\", \"love\", \"low\", \"m\", \"m\", \"m\", \"make\", \"make\", \"make\", \"make\", \"match\", \"match\", \"medium\", \"medium\", \"merger\", \"military\", \"mind\", \"minion\", \"minister\", \"model\", \"morning\", \"moth\", \"movie\", \"music\", \"music\", \"need\", \"need\", \"need\", \"need\", \"new\", \"new\", \"new\", \"new\", \"news\", \"news\", \"normal\", \"not\", \"not\", \"not\", \"nuclear\", \"online\", \"operation\", \"outage\", \"painting\", \"paper\", \"party\", \"people\", \"people\", \"people\", \"plant\", \"platform\", \"play\", \"play\", \"play\", \"point\", \"point\", \"point\", \"point\", \"police\", \"policy\", \"policy\", \"power\", \"power\", \"power\", \"powerful\", \"price\", \"price\", \"project\", \"public\", \"public\", \"public\", \"pump\", \"quantum\", \"race\", \"recognition\", \"referee\", \"report\", \"report\", \"report\", \"research\", \"research\", \"research\", \"researcher\", \"right\", \"right\", \"risk\", \"risk\", \"risk\", \"robot\", \"room\", \"run\", \"run\", \"s\", \"s\", \"s\", \"s\", \"safety\", \"safety\", \"say\", \"say\", \"say\", \"say\", \"scale\", \"scam\", \"school\", \"science\", \"science\", \"screen\", \"screen\", \"season\", \"selfservice\", \"sense\", \"series\", \"service\", \"service\", \"share\", \"share\", \"share\", \"share\", \"simply\", \"small\", \"small\", \"social\", \"social\", \"social\", \"song\", \"source\", \"spokesperson\", \"sport\", \"stadium\", \"steak\", \"stock\", \"student\", \"subject\", \"success\", \"summit\", \"system\", \"system\", \"system\", \"system\", \"teacher\", \"tech\", \"tech\", \"tech\", \"technology\", \"technology\", \"technology\", \"technology\", \"tell\", \"tell\", \"tell\", \"tell\", \"thing\", \"thing\", \"think\", \"think\", \"think\", \"thought\", \"time\", \"time\", \"time\", \"time\", \"tool\", \"tool\", \"tour\", \"traditional\", \"trap\", \"trial\", \"tv\", \"update\", \"use\", \"use\", \"use\", \"use\", \"value\", \"video\", \"video\", \"voice\", \"voice\", \"want\", \"want\", \"want\", \"warn\", \"warn\", \"warn\", \"watch\", \"water\", \"water\", \"way\", \"way\", \"way\", \"way\", \"work\", \"work\", \"work\", \"work\", \"work\", \"world\", \"world\", \"world\", \"world\", \"year\", \"year\", \"year\", \"year\", \"year\", \"|\", \"|\", \"\\u00a0\"]}, \"R\": 30, \"lambda.step\": 0.01, \"plot.opts\": {\"xlab\": \"PC1\", \"ylab\": \"PC2\"}, \"topic.order\": [2, 1, 5, 3, 4]};\n",
              "\n",
              "function LDAvis_load_lib(url, callback){\n",
              "  var s = document.createElement('script');\n",
              "  s.src = url;\n",
              "  s.async = true;\n",
              "  s.onreadystatechange = s.onload = callback;\n",
              "  s.onerror = function(){console.warn(\"failed to load library \" + url);};\n",
              "  document.getElementsByTagName(\"head\")[0].appendChild(s);\n",
              "}\n",
              "\n",
              "if(typeof(LDAvis) !== \"undefined\"){\n",
              "   // already loaded: just create the visualization\n",
              "   !function(LDAvis){\n",
              "       new LDAvis(\"#\" + \"ldavis_el1751324748951874404201960612\", ldavis_el1751324748951874404201960612_data);\n",
              "   }(LDAvis);\n",
              "}else if(typeof define === \"function\" && define.amd){\n",
              "   // require.js is available: use it to load d3/LDAvis\n",
              "   require.config({paths: {d3: \"https://d3js.org/d3.v5\"}});\n",
              "   require([\"d3\"], function(d3){\n",
              "      window.d3 = d3;\n",
              "      LDAvis_load_lib(\"https://cdn.jsdelivr.net/gh/bmabey/pyLDAvis@3.4.0/pyLDAvis/js/ldavis.v3.0.0.js\", function(){\n",
              "        new LDAvis(\"#\" + \"ldavis_el1751324748951874404201960612\", ldavis_el1751324748951874404201960612_data);\n",
              "      });\n",
              "    });\n",
              "}else{\n",
              "    // require.js not available: dynamically load d3 & LDAvis\n",
              "    LDAvis_load_lib(\"https://d3js.org/d3.v5.js\", function(){\n",
              "         LDAvis_load_lib(\"https://cdn.jsdelivr.net/gh/bmabey/pyLDAvis@3.4.0/pyLDAvis/js/ldavis.v3.0.0.js\", function(){\n",
              "                 new LDAvis(\"#\" + \"ldavis_el1751324748951874404201960612\", ldavis_el1751324748951874404201960612_data);\n",
              "            })\n",
              "         });\n",
              "}\n",
              "</script>"
            ]
          },
          "metadata": {},
          "execution_count": 58
        }
      ]
    },
    {
      "cell_type": "code",
      "source": [
        "from gensim.models import CoherenceModel\n",
        "\n",
        "# Calcula a perplexidade do modelo (quanto menor, melhor)\n",
        "perplexity = lda_model.log_perplexity(corpus)\n",
        "print(f'Perplexidade do modelo: {perplexity}')\n",
        "\n",
        "# Calcula a coerência do modelo\n",
        "coherence_model_lda = CoherenceModel(model=lda_model, texts=processed_docs, dictionary=id2word, coherence='c_v')\n",
        "coherence_lda = coherence_model_lda.get_coherence()\n",
        "print(f'Coerência do modelo: {coherence_lda}')\n"
      ],
      "metadata": {
        "colab": {
          "base_uri": "https://localhost:8080/"
        },
        "id": "b5V6TpLHJQJv",
        "outputId": "7ff3d913-5516-49d7-8f77-8b4ff0dd3383"
      },
      "execution_count": 59,
      "outputs": [
        {
          "output_type": "stream",
          "name": "stderr",
          "text": [
            "/usr/local/lib/python3.10/dist-packages/ipykernel/ipkernel.py:283: DeprecationWarning: `should_run_async` will not call `transform_cell` automatically in the future. Please pass the result to `transformed_cell` argument and any exception that happen during thetransform in `preprocessing_exc_tuple` in IPython 7.17 and above.\n",
            "  and should_run_async(code)\n"
          ]
        },
        {
          "output_type": "stream",
          "name": "stdout",
          "text": [
            "Perplexidade do modelo: -8.67159672470842\n",
            "Coerência do modelo: 0.39907535795079485\n"
          ]
        }
      ]
    }
  ]
}